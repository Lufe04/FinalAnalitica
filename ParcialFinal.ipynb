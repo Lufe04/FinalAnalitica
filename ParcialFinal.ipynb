{
 "cells": [
  {
   "cell_type": "markdown",
   "id": "5c767edc",
   "metadata": {},
   "source": [
    "# Proyecto final Analitica de datos \n",
    "## Integrantes \n",
    "  Luisa Carpintero \n",
    "  David Lopez "
   ]
  },
  {
   "cell_type": "markdown",
   "id": "56c3e650",
   "metadata": {},
   "source": [
    "## Seccion 2: Exploracion y analisis de los datos "
   ]
  },
  {
   "cell_type": "code",
   "execution_count": 13,
   "id": "6422ee76",
   "metadata": {},
   "outputs": [
    {
     "name": "stdout",
     "output_type": "stream",
     "text": [
      "📊 Columnas disponibles:\n",
      "['PERIODO', 'MES', 'PER', 'DIRECTORIO', 'SECUENCIA_P', 'ORDEN', 'HOGAR', 'REGIS', 'AREA', 'CLASE', 'FEX_C18', 'DPTO', 'PT', 'P6016', 'P3271', 'P6040', 'P6030S1', 'P6030S3', 'P6050', 'P6083', 'P6083S1', 'P6081', 'P6081S1', 'P2057', 'P2059', 'P2061', 'P6080', 'P6080S1', 'P6080S1A1', 'P6070', 'P6071', 'P6071S1', 'P3147S1', 'P3147S2', 'P3147S3', 'P3147S4', 'P3147S5', 'P3147S6', 'P3147S7', 'P3147S8', 'P3147S9', 'P3147S10', 'P3147S11', 'P3147S10A1', 'P6090', 'P6100', 'P6110', 'P6120', 'P1906S1', 'P1906S2', 'P1906S3', 'P1906S4', 'P1906S5', 'P1906S6', 'P1906S7', 'P1906S8', 'P6160', 'P6170', 'P3041', 'P3042', 'P3042S1', 'P3042S2', 'P3043', 'P3043S1', 'P3038', 'P3039', 'POB_MAY18']\n",
      "\n",
      "🔍 Primeras filas del DataFrame:\n",
      "    PERIODO  MES   PER  DIRECTORIO  SECUENCIA_P  ORDEN  HOGAR  REGIS  AREA  \\\n",
      "0  20240101    1  2024     7655976            1      1      1     10   5.0   \n",
      "1  20240101    1  2024     7655976            1      2      1     10   5.0   \n",
      "2  20240101    1  2024     7655976            1      3      1     10   5.0   \n",
      "3  20240101    1  2024     7655977            1      1      1     10   5.0   \n",
      "4  20240101    1  2024     7655977            1      2      1     10   5.0   \n",
      "\n",
      "   CLASE  ... P6170  P3041  P3042  P3042S1  P3042S2  P3043  P3043S1  P3038  \\\n",
      "0      1  ...   2.0    NaN    5.0      1.0      NaN    1.0      NaN    2.0   \n",
      "1      1  ...   2.0    NaN    5.0      2.0      NaN    2.0      NaN    1.0   \n",
      "2      1  ...   2.0    NaN    1.0      0.0      NaN    NaN      NaN    NaN   \n",
      "3      1  ...   2.0    NaN    4.0      3.0      NaN    NaN      NaN    2.0   \n",
      "4      1  ...   2.0    NaN    4.0      4.0      NaN    NaN      NaN    2.0   \n",
      "\n",
      "   P3039  POB_MAY18  \n",
      "0    1.0        1.0  \n",
      "1    2.0        1.0  \n",
      "2    NaN        NaN  \n",
      "3    1.0        1.0  \n",
      "4    1.0        1.0  \n",
      "\n",
      "[5 rows x 67 columns]\n"
     ]
    },
    {
     "name": "stderr",
     "output_type": "stream",
     "text": [
      "C:\\Users\\David Lopez\\AppData\\Local\\Temp\\ipykernel_36228\\2537803425.py:7: DtypeWarning: Columns (43) have mixed types. Specify dtype option on import or set low_memory=False.\n",
      "  df = pd.read_csv(\n"
     ]
    }
   ],
   "source": [
    "import pandas as pd\n",
    "\n",
    "# Ruta exacta del archivo\n",
    "ruta_archivo = \"C:/Users/David Lopez/Documents/FinalAnalitica/Enero_2024/Características generales, seguridad social en salud y educación.CSV\"\n",
    "\n",
    "# Cargar el archivo\n",
    "df = pd.read_csv(\n",
    "    ruta_archivo,\n",
    "    sep=\";\",            # Separador de columnas\n",
    "    encoding=\"latin-1\", # Codificación\n",
    "    decimal=\",\",        # Decimales con coma\n",
    "    header=0            # La primera fila es el encabezado\n",
    ")\n",
    "\n",
    "# Mostrar columnas y primeras filas en formato tabla\n",
    "print(\"📊 Columnas disponibles:\")\n",
    "print(df.columns.tolist())  # Lista de columnas\n",
    "\n",
    "print(\"\\n🔍 Primeras filas del DataFrame:\")\n",
    "print(df.head())  # Muestra las primeras 5 filas en formato tabla"
   ]
  }
 ],
 "metadata": {
  "kernelspec": {
   "display_name": "analitica",
   "language": "python",
   "name": "python3"
  },
  "language_info": {
   "codemirror_mode": {
    "name": "ipython",
    "version": 3
   },
   "file_extension": ".py",
   "mimetype": "text/x-python",
   "name": "python",
   "nbconvert_exporter": "python",
   "pygments_lexer": "ipython3",
   "version": "3.13.1"
  }
 },
 "nbformat": 4,
 "nbformat_minor": 5
}
