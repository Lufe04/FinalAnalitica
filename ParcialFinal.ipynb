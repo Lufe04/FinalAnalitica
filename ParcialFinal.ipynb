{
 "cells": [
  {
   "cell_type": "markdown",
   "id": "5c767edc",
   "metadata": {},
   "source": [
    "# Proyecto final Analitica de datos \n",
    "## Integrantes \n",
    "  Luisa Carpintero \n",
    "  David Lopez "
   ]
  }
 ],
 "metadata": {
  "language_info": {
   "name": "python"
  }
 },
 "nbformat": 4,
 "nbformat_minor": 5
}
